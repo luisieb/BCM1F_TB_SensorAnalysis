{
 "cells": [
  {
   "cell_type": "code",
   "execution_count": 2,
   "metadata": {},
   "outputs": [],
   "source": [
    "import sys\n",
    "sys.path.append('../python')\n",
    "import pandas as pd\n",
    "from pylab import *\n",
    "from tb_DataReader import EventFeaturesReader\n",
    "from tb_PulseAmpFitter import PulseAmpFitter\n",
    "\n",
    "%matplotlib inline\n",
    "dataDir = \"../data/eventFeatures\""
   ]
  },
  {
   "cell_type": "code",
   "execution_count": 3,
   "metadata": {},
   "outputs": [],
   "source": [
    "#run,backend, channel=\"222\",\"ubcm\",2\n",
    "run,backend, channel = \"237\",\"ubcm\",0\n",
    "rd = EventFeaturesReader(dataDir,\"000\"+run,backend)"
   ]
  },
  {
   "cell_type": "markdown",
   "metadata": {},
   "source": [
    "# 1. Fit Data"
   ]
  },
  {
   "cell_type": "code",
   "execution_count": 5,
   "metadata": {},
   "outputs": [
    {
     "name": "stdout",
     "output_type": "stream",
     "text": [
      "0         24.03840\n",
      "1         32.01170\n",
      "2         65.09350\n",
      "3         76.17030\n",
      "4         59.71620\n",
      "5         80.42070\n",
      "6         32.83970\n",
      "7         24.41400\n",
      "8          9.78631\n",
      "9         18.56260\n",
      "10        81.98330\n",
      "11        39.72620\n",
      "12        84.77630\n",
      "13        62.05010\n",
      "14        19.90320\n",
      "15        11.84640\n",
      "16        71.29050\n",
      "17        14.75790\n",
      "18       106.85100\n",
      "19       119.33400\n",
      "20        25.66940\n",
      "21        43.89320\n",
      "22        88.83140\n",
      "23        19.42900\n",
      "24        43.94660\n",
      "25        82.15860\n",
      "26        44.93150\n",
      "27        54.12850\n",
      "28        71.22040\n",
      "29        61.20530\n",
      "           ...    \n",
      "18730     62.02000\n",
      "18731     16.58430\n",
      "18732     57.02340\n",
      "18733     21.19370\n",
      "18734     11.81800\n",
      "18735    128.28500\n",
      "18736     60.16190\n",
      "18737     62.00170\n",
      "18738     17.95160\n",
      "18739     73.07850\n",
      "18740     31.04340\n",
      "18741     60.52750\n",
      "18742     62.82300\n",
      "18743     12.81470\n",
      "18744     23.85140\n",
      "18745     29.06180\n",
      "18746     69.08680\n",
      "18747     75.96660\n",
      "18748     64.26710\n",
      "18749     68.15030\n",
      "18750     14.93150\n",
      "18751     86.87310\n",
      "18752     71.65440\n",
      "18753     10.78960\n",
      "18754     21.22700\n",
      "18755     60.80630\n",
      "18756     22.90320\n",
      "18757    128.32200\n",
      "18758     23.96330\n",
      "18759     62.69120\n",
      "Name: pulseAmp, Length: 18760, dtype: float64\n"
     ]
    }
   ],
   "source": [
    "ch = rd.getChannel(channel)\n",
    "#print ch\n",
    "title = \"Run {}, sensor-{} {}V, {} CH{}, n={}\".format(run,2, 300,backend,channel,len(ch))\n",
    "# fitting\n",
    "fitter = PulseAmpFitter(ch.pulseAmp)\n",
    "print ch.pulseAmp\n",
    "#sigma = ch.baseline_std.mean()\n",
    "fitter.fitRange(40,80,None)\n",
    "# plot\n",
    "#fitter.plot()\n",
    "#plt.title(title, fontsize=14)\n",
    "#plt.savefig(\"../plots/pulseAmpFit/langaus_{}_run{}_{}.png\".format(backend,run,channel),dpi=300)"
   ]
  },
  {
   "cell_type": "code",
   "execution_count": null,
   "metadata": {},
   "outputs": [],
   "source": [
    "import seaborn as sns\n",
    "sns.set(style=\"ticks\")\n",
    "jp= sns.jointplot(ch.pulseAmp, ch.pulsePos, kind=\"hex\", color=\"C0\",gridsize=20,ratio=4,space=0.5)\n",
    "jp.set_axis_labels(r'Amplitude','Position')\n",
    "#jp.ax_joint.plot([0,100])\n",
    "jp.ax_joint.set_title(title)\n",
    "#plt.savefig(\"../plots/PulseHist2D/{}_run{}_{}.png\".format(backend,run,channel),dpi=300)"
   ]
  },
  {
   "cell_type": "code",
   "execution_count": null,
   "metadata": {},
   "outputs": [],
   "source": []
  },
  {
   "cell_type": "code",
   "execution_count": null,
   "metadata": {},
   "outputs": [],
   "source": []
  }
 ],
 "metadata": {
  "kernelspec": {
   "display_name": "Python 2",
   "language": "python",
   "name": "python2"
  },
  "language_info": {
   "codemirror_mode": {
    "name": "ipython",
    "version": 2
   },
   "file_extension": ".py",
   "mimetype": "text/x-python",
   "name": "python",
   "nbconvert_exporter": "python",
   "pygments_lexer": "ipython2",
   "version": "2.7.16"
  }
 },
 "nbformat": 4,
 "nbformat_minor": 2
}
